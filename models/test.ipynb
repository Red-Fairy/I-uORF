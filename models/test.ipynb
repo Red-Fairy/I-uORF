{
 "cells": [
  {
   "cell_type": "code",
   "execution_count": 1,
   "metadata": {},
   "outputs": [
    {
     "name": "stderr",
     "output_type": "stream",
     "text": [
      "/viscam/u/redfairy/anaconda3/envs/odise/lib/python3.9/site-packages/tqdm/auto.py:21: TqdmWarning: IProgress not found. Please update jupyter and ipywidgets. See https://ipywidgets.readthedocs.io/en/stable/user_install.html\n",
      "  from .autonotebook import tqdm as notebook_tqdm\n"
     ]
    }
   ],
   "source": [
    "import torch"
   ]
  },
  {
   "cell_type": "code",
   "execution_count": 2,
   "metadata": {},
   "outputs": [],
   "source": [
    "class PositionalEncoding(torch.nn.Module):\n",
    "    def __init__(self, min_deg=0, max_deg=5):\n",
    "        super(PositionalEncoding, self).__init__()\n",
    "        self.min_deg = min_deg\n",
    "        self.max_deg = max_deg\n",
    "        self.scales = torch.tensor([2 ** i for i in range(min_deg, max_deg)])\n",
    "\n",
    "    def forward(self, x, y=None):\n",
    "        x_ = x\n",
    "        shape = list(x.shape[:-1]) + [-1]\n",
    "        x_enc = (x[..., None, :] * self.scales[:, None].to(x.device)).reshape(shape)\n",
    "        x_enc = torch.cat((x_enc, x_enc + 0.5 * torch.pi), -1)\n",
    "        if y is not None:\n",
    "            # IPE\n",
    "            y_enc = (y[..., None, :] * self.scales[:, None].to(x.device)**2).reshape(shape)\n",
    "            y_enc = torch.cat((y_enc, y_enc), -1)\n",
    "            x_ret = torch.exp(-0.5 * y_enc) * torch.sin(x_enc)\n",
    "            y_ret = torch.maximum(torch.zeros_like(y_enc), 0.5 * (1 - torch.exp(-2 * y_enc) * torch.cos(2 * x_enc)) - x_ret ** 2)\n",
    "            \n",
    "            x_ret = torch.cat([x_ret, x_], dim=-1) # N*(6*(max_deg-min_deg)+3)\n",
    "            return x_ret, y_ret\n",
    "        else:\n",
    "            # PE (for viewdirs)\n",
    "            x_ret = torch.sin(x_enc)\n",
    "            x_ret = torch.cat([x_ret, x_], dim=-1) # N*(6*(max_deg-min_deg)+3)\n",
    "            return x_ret\n",
    "    \n",
    "    def sin_emb(self, x, keep_ori=True):\n",
    "        \"\"\"\n",
    "        create sin embedding for 3d coordinates\n",
    "        input:\n",
    "            x: Px3\n",
    "            n_freq: number of raised frequency\n",
    "        \"\"\"\n",
    "        embedded = []\n",
    "        if keep_ori:\n",
    "            embedded.append(x)\n",
    "        emb_fns = [torch.sin, torch.cos]\n",
    "        freqs = 2. ** torch.linspace(self.min_deg, self.max_deg-1, steps=self.max_deg - self.min_deg)\n",
    "        for freq in freqs:\n",
    "            for emb_fn in emb_fns:\n",
    "                embedded.append(emb_fn(freq * x))\n",
    "        embedded_ = torch.cat(embedded, dim=1)\n",
    "        return embedded_"
   ]
  },
  {
   "cell_type": "code",
   "execution_count": 3,
   "metadata": {},
   "outputs": [
    {
     "name": "stdout",
     "output_type": "stream",
     "text": [
      "torch.Size([32768, 64, 3]) torch.Size([8192, 64, 3])\n"
     ]
    }
   ],
   "source": [
    "mean = torch.load('/viscam/projects/uorf-extension/I-uORF/sampling_mean_fg.pt')\n",
    "var = torch.load('/viscam/projects/uorf-extension/I-uORF/sampling_var_fg.pt')\n",
    "print(mean.shape, var.shape)"
   ]
  },
  {
   "cell_type": "code",
   "execution_count": 5,
   "metadata": {},
   "outputs": [],
   "source": [
    "pos_enc = PositionalEncoding()\n",
    "out1 = pos_enc(mean, var[None, ...].expand(4, -1, -1, -1))[0]"
   ]
  },
  {
   "cell_type": "code",
   "execution_count": 6,
   "metadata": {},
   "outputs": [
    {
     "name": "stdout",
     "output_type": "stream",
     "text": [
      "torch.Size([32768, 64, 33])\n"
     ]
    }
   ],
   "source": [
    "print(out1.shape)"
   ]
  },
  {
   "cell_type": "code",
   "execution_count": 7,
   "metadata": {},
   "outputs": [
    {
     "name": "stdout",
     "output_type": "stream",
     "text": [
      "torch.Size([32768, 64, 33])\n"
     ]
    }
   ],
   "source": [
    "out2 = pos_enc(mean, var[None, ...].expand(4, -1, -1, -1, -1))[0]\n",
    "print(out2.shape)"
   ]
  },
  {
   "cell_type": "code",
   "execution_count": 8,
   "metadata": {},
   "outputs": [
    {
     "name": "stdout",
     "output_type": "stream",
     "text": [
      "tensor(0.)\n"
     ]
    }
   ],
   "source": [
    "out = out1 - out2\n",
    "print(out.max())"
   ]
  }
 ],
 "metadata": {
  "kernelspec": {
   "display_name": "nerfstudio",
   "language": "python",
   "name": "python3"
  },
  "language_info": {
   "codemirror_mode": {
    "name": "ipython",
    "version": 3
   },
   "file_extension": ".py",
   "mimetype": "text/x-python",
   "name": "python",
   "nbconvert_exporter": "python",
   "pygments_lexer": "ipython3",
   "version": "3.9.16"
  },
  "orig_nbformat": 4
 },
 "nbformat": 4,
 "nbformat_minor": 2
}
