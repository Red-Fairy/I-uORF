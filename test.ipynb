{
 "cells": [
  {
   "cell_type": "code",
   "execution_count": null,
   "metadata": {},
   "outputs": [],
   "source": [
    "from options.test_options import TestOptions\n",
    "from data import create_dataset\n",
    "from models import create_model\n",
    "from util.visualizer import Visualizer, save_images\n",
    "from util.html import HTML\n",
    "import os\n",
    "from util.util import AverageMeter, set_seed, write_location"
   ]
  },
  {
   "cell_type": "code",
   "execution_count": null,
   "metadata": {},
   "outputs": [],
   "source": [
    "opt = TestOptions().parse()  # get test options\n",
    "# hard-code some parameters for test\n",
    "opt.num_threads = 0   # test code only supports num_threads = 1\n",
    "opt.batch_size = 1    # test code only supports batch_size = 1\n",
    "opt.serial_batches = True  # disable data shuffling; comment this line if results on randomly chosen images are needed.\n",
    "dataset = create_dataset(opt)  # create a dataset given opt.dataset_mode and other options\n",
    "model = create_model(opt)      # create a model given opt.model and other options\n",
    "model.setup(opt)               # regular setup: load and print networks; create schedulers\n",
    "visualizer = Visualizer(opt)  # create a visualizer that display/save images and plots\n",
    "meters_tst = {stat: AverageMeter() for stat in model.loss_names}\n",
    "\n",
    "set_seed(opt.seed)\n",
    "\n",
    "web_dir = os.path.join(opt.results_dir, opt.name, opt.exp_id,\n",
    "                        '{}_{}'.format(opt.testset_name, opt.epoch))  # define the website directory\n",
    "print('creating web directory', web_dir)\n",
    "webpage = HTML(web_dir, 'Experiment = %s, Phase = %s, Epoch = %s' % (opt.name, opt.phase, opt.epoch))\n",
    "\n",
    "file = open(os.path.join(opt.results_dir, opt.name, opt.exp_id, 'slot_location.txt'), 'w')\n",
    "\n",
    "for i, data in enumerate(dataset):\n",
    "    visualizer.reset()\n",
    "    model.set_input(data)  # unpack data from data loader\n",
    "    model.test()           # run inference: forward + compute_visuals\n",
    "\n",
    "    losses = model.get_current_losses()\n",
    "    visualizer.print_test_losses(i, losses)\n",
    "    for loss_name in model.loss_names:\n",
    "        meters_tst[loss_name].update(float(losses[loss_name]))\n",
    "\n",
    "    visuals = model.get_current_visuals()\n",
    "    visualizer.display_current_results(visuals, epoch=None, save_result=False)\n",
    "    img_path = model.get_image_paths()\n",
    "    save_images(webpage, visuals, img_path, aspect_ratio=opt.aspect_ratio, width=opt.load_size)\n",
    "    losses = {}\n",
    "    for loss_name in model.loss_names:\n",
    "        losses[loss_name] = meters_tst[loss_name].avg\n",
    "    visualizer.print_test_losses('average', losses)\n",
    "\n",
    "    try:\n",
    "        write_location(file, model.fg_slot_image_position, i, description='(image position)')\n",
    "        write_location(file, model.fg_slot_nss_position, i, description='(nss position)')\n",
    "    except:\n",
    "        pass"
   ]
  }
 ],
 "metadata": {
  "language_info": {
   "name": "python"
  },
  "orig_nbformat": 4
 },
 "nbformat": 4,
 "nbformat_minor": 2
}
