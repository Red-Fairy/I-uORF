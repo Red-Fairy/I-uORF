{
 "cells": [
  {
   "cell_type": "code",
   "execution_count": null,
   "metadata": {},
   "outputs": [],
   "source": [
    "from options.test_options import TestOptions\n",
    "from data import create_dataset\n",
    "from models import create_model\n",
    "from util.visualizer import Visualizer, save_images\n",
    "from util.html import HTML\n",
    "import os\n",
    "from util.util import AverageMeter, set_seed, write_location"
   ]
  },
  {
   "cell_type": "code",
   "execution_count": null,
   "metadata": {},
   "outputs": [],
   "source": [
    "import torch\n",
    "\n",
    "\n",
    "opt = TestOptions().parse()  # get test options\n",
    "# hard-code some parameters for test\n",
    "opt.num_threads = 0   # test code only supports num_threads = 1\n",
    "opt.batch_size = 1    # test code only supports batch_size = 1\n",
    "opt.serial_batches = True  # disable data shuffling; comment this line if results on randomly chosen images are needed.\n",
    "dataset = create_dataset(opt)  # create a dataset given opt.dataset_mode and other options\n",
    "model = create_model(opt)      # create a model given opt.model and other options\n",
    "model.setup(opt)               # regular setup: load and print networks; create schedulers\n",
    "visualizer = Visualizer(opt)  # create a visualizer that display/save images and plots\n",
    "meters_tst = {stat: AverageMeter() for stat in model.loss_names}\n",
    "\n",
    "set_seed(opt.seed)\n",
    "\n",
    "web_dir = os.path.join(opt.results_dir, opt.name, opt.exp_id,\n",
    "                        '{}_{}'.format(opt.testset_name, opt.epoch))  # define the website directory\n",
    "print('creating web directory', web_dir)\n",
    "webpage = HTML(web_dir, 'Experiment = %s, Phase = %s, Epoch = %s' % (opt.name, opt.phase, opt.epoch))\n",
    "\n",
    "file = open(os.path.join(opt.results_dir, opt.name, opt.exp_id, 'slot_location.txt'), 'w')\n",
    "\n",
    "for i, data in enumerate(dataset):\n",
    "    visualizer.reset()\n",
    "    model.set_input(data)  # unpack data from data loader\n",
    "    # model.test()           # run inference: forward + compute_visuals\n",
    "\n",
    "    with torch.no_grad():\n",
    "        model.forward()\n",
    "        fg_slot_position = torch.zeros((opt.num_slots-1, 2))\n",
    "        model.forground_position(fg_slot_image_position=fg_slot_position)\n",
    "        model.compute_visuals()\n",
    "\n",
    "    losses = model.get_current_losses()\n",
    "    visualizer.print_test_losses(i, losses)\n",
    "    for loss_name in model.loss_names:\n",
    "        meters_tst[loss_name].update(float(losses[loss_name]))\n",
    "\n",
    "    visuals = model.get_current_visuals()\n",
    "    visualizer.display_current_results(visuals, epoch=None, save_result=False)\n",
    "    img_path = model.get_image_paths()\n",
    "    save_images(webpage, visuals, img_path, aspect_ratio=opt.aspect_ratio, width=opt.load_size)\n",
    "    losses = {}\n",
    "    for loss_name in model.loss_names:\n",
    "        losses[loss_name] = meters_tst[loss_name].avg\n",
    "    visualizer.print_test_losses('average', losses)\n",
    "\n",
    "    break"
   ]
  },
  {
   "cell_type": "code",
   "execution_count": 2,
   "metadata": {},
   "outputs": [],
   "source": [
    "import torch\n",
    "import torchvision.transforms.functional as TF\n",
    "from data.base_dataset import BaseDataset\n",
    "from PIL import Image\n",
    "\n",
    "mask_path = '/viscam/projects/uorf-extension/datasets/room_diverse_nobg/test/00000_sc0000_az00_mask.png'\n",
    "\n",
    "def _transform_mask(img):\n",
    "    img = TF.resize(img, (128, 128), Image.NEAREST)\n",
    "    img = TF.to_tensor(img)\n",
    "    img = TF.normalize(img, [0.5] * img.shape[0], [0.5] * img.shape[0])  # [0,1] -> [-1,1]\n",
    "    return img\n",
    "\n",
    "mask = Image.open(mask_path).convert('RGB')\n",
    "mask_l = mask.convert('L')\n",
    "mask = _transform_mask(mask)\n",
    "mask_l = _transform_mask(mask_l)\n",
    "mask_flat = mask_l.flatten(start_dim=0)  # HW,\n",
    "greyscale_dict = mask_flat.unique(sorted=True)  # 8,\n",
    "onehot_labels = mask_flat[:, None] == greyscale_dict  # HWx8, one-hot\n",
    "onehot_labels = onehot_labels.type(torch.uint8)\n",
    "mask_idx = onehot_labels.argmax(dim=1)  # HW\n",
    "bg_color = greyscale_dict[1]\n",
    "fg_idx = mask_flat != bg_color  # HW\n",
    "\n",
    "obj_idxs = []\n",
    "for i in range(len(greyscale_dict)):\n",
    "    obj_idx = mask_l == greyscale_dict[i]  # 1xHxW\n",
    "    obj_idxs.append(obj_idx)\n",
    "obj_idxs = torch.stack(obj_idxs)  # Kx1xHxW\n"
   ]
  },
  {
   "cell_type": "code",
   "execution_count": 7,
   "metadata": {},
   "outputs": [
    {
     "name": "stdout",
     "output_type": "stream",
     "text": [
      "tensor([[[[False, False, False,  ..., False, False, False],\n",
      "          [False, False, False,  ..., False, False, False],\n",
      "          [False, False, False,  ..., False, False, False],\n",
      "          ...,\n",
      "          [False, False, False,  ..., False, False, False],\n",
      "          [False, False, False,  ..., False, False, False],\n",
      "          [False, False, False,  ..., False, False, False]]],\n",
      "\n",
      "\n",
      "        [[[ True,  True,  True,  ...,  True,  True,  True],\n",
      "          [ True,  True,  True,  ...,  True,  True,  True],\n",
      "          [ True,  True,  True,  ...,  True,  True,  True],\n",
      "          ...,\n",
      "          [ True,  True,  True,  ...,  True,  True,  True],\n",
      "          [ True,  True,  True,  ...,  True,  True,  True],\n",
      "          [ True,  True,  True,  ...,  True,  True,  True]]],\n",
      "\n",
      "\n",
      "        [[[False, False, False,  ..., False, False, False],\n",
      "          [False, False, False,  ..., False, False, False],\n",
      "          [False, False, False,  ..., False, False, False],\n",
      "          ...,\n",
      "          [False, False, False,  ..., False, False, False],\n",
      "          [False, False, False,  ..., False, False, False],\n",
      "          [False, False, False,  ..., False, False, False]]],\n",
      "\n",
      "\n",
      "        [[[False, False, False,  ..., False, False, False],\n",
      "          [False, False, False,  ..., False, False, False],\n",
      "          [False, False, False,  ..., False, False, False],\n",
      "          ...,\n",
      "          [False, False, False,  ..., False, False, False],\n",
      "          [False, False, False,  ..., False, False, False],\n",
      "          [False, False, False,  ..., False, False, False]]],\n",
      "\n",
      "\n",
      "        [[[False, False, False,  ..., False, False, False],\n",
      "          [False, False, False,  ..., False, False, False],\n",
      "          [False, False, False,  ..., False, False, False],\n",
      "          ...,\n",
      "          [False, False, False,  ..., False, False, False],\n",
      "          [False, False, False,  ..., False, False, False],\n",
      "          [False, False, False,  ..., False, False, False]]]])\n",
      "tensor([-0.7725, -0.4980, -0.4039,  0.1765,  0.7725])\n"
     ]
    }
   ],
   "source": [
    "print(obj_idxs)\n",
    "print(greyscale_dict)"
   ]
  },
  {
   "cell_type": "code",
   "execution_count": 6,
   "metadata": {},
   "outputs": [
    {
     "name": "stdout",
     "output_type": "stream",
     "text": [
      "tensor([[[-0.4980, -0.4980, -0.4980,  ..., -0.4980, -0.4980, -0.4980],\n",
      "         [-0.4980, -0.4980, -0.4980,  ..., -0.4980, -0.4980, -0.4980],\n",
      "         [-0.4980, -0.4980, -0.4980,  ..., -0.4980, -0.4980, -0.4980],\n",
      "         ...,\n",
      "         [-0.4980, -0.4980, -0.4980,  ..., -0.4980, -0.4980, -0.4980],\n",
      "         [-0.4980, -0.4980, -0.4980,  ..., -0.4980, -0.4980, -0.4980],\n",
      "         [-0.4980, -0.4980, -0.4980,  ..., -0.4980, -0.4980, -0.4980]]])\n"
     ]
    }
   ],
   "source": [
    "print(mask_l)"
   ]
  }
 ],
 "metadata": {
  "kernelspec": {
   "display_name": "nerfstudio",
   "language": "python",
   "name": "python3"
  },
  "language_info": {
   "codemirror_mode": {
    "name": "ipython",
    "version": 3
   },
   "file_extension": ".py",
   "mimetype": "text/x-python",
   "name": "python",
   "nbconvert_exporter": "python",
   "pygments_lexer": "ipython3",
   "version": "3.8.16"
  },
  "orig_nbformat": 4
 },
 "nbformat": 4,
 "nbformat_minor": 2
}
