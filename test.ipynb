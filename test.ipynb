{
 "cells": [
  {
   "cell_type": "code",
   "execution_count": null,
   "metadata": {},
   "outputs": [],
   "source": [
    "from options.test_options import TestOptions\n",
    "from data import create_dataset\n",
    "from models import create_model\n",
    "from util.visualizer import Visualizer, save_images\n",
    "from util.html import HTML\n",
    "import os\n",
    "from util.util import AverageMeter, set_seed, write_location"
   ]
  },
  {
   "cell_type": "code",
   "execution_count": null,
   "metadata": {},
   "outputs": [],
   "source": [
    "import torch\n",
    "\n",
    "\n",
    "opt = TestOptions().parse()  # get test options\n",
    "# hard-code some parameters for test\n",
    "opt.num_threads = 0   # test code only supports num_threads = 1\n",
    "opt.batch_size = 1    # test code only supports batch_size = 1\n",
    "opt.serial_batches = True  # disable data shuffling; comment this line if results on randomly chosen images are needed.\n",
    "dataset = create_dataset(opt)  # create a dataset given opt.dataset_mode and other options\n",
    "model = create_model(opt)      # create a model given opt.model and other options\n",
    "model.setup(opt)               # regular setup: load and print networks; create schedulers\n",
    "visualizer = Visualizer(opt)  # create a visualizer that display/save images and plots\n",
    "meters_tst = {stat: AverageMeter() for stat in model.loss_names}\n",
    "\n",
    "set_seed(opt.seed)\n",
    "\n",
    "web_dir = os.path.join(opt.results_dir, opt.name, opt.exp_id,\n",
    "                        '{}_{}'.format(opt.testset_name, opt.epoch))  # define the website directory\n",
    "print('creating web directory', web_dir)\n",
    "webpage = HTML(web_dir, 'Experiment = %s, Phase = %s, Epoch = %s' % (opt.name, opt.phase, opt.epoch))\n",
    "\n",
    "file = open(os.path.join(opt.results_dir, opt.name, opt.exp_id, 'slot_location.txt'), 'w')\n",
    "\n",
    "for i, data in enumerate(dataset):\n",
    "    visualizer.reset()\n",
    "    model.set_input(data)  # unpack data from data loader\n",
    "    # model.test()           # run inference: forward + compute_visuals\n",
    "\n",
    "    with torch.no_grad():\n",
    "        model.forward()\n",
    "        fg_slot_position = torch.zeros((opt.num_slots-1, 2))\n",
    "        model.forground_position(fg_slot_image_position=fg_slot_position)\n",
    "        model.compute_visuals()\n",
    "\n",
    "    losses = model.get_current_losses()\n",
    "    visualizer.print_test_losses(i, losses)\n",
    "    for loss_name in model.loss_names:\n",
    "        meters_tst[loss_name].update(float(losses[loss_name]))\n",
    "\n",
    "    visuals = model.get_current_visuals()\n",
    "    visualizer.display_current_results(visuals, epoch=None, save_result=False)\n",
    "    img_path = model.get_image_paths()\n",
    "    save_images(webpage, visuals, img_path, aspect_ratio=opt.aspect_ratio, width=opt.load_size)\n",
    "    losses = {}\n",
    "    for loss_name in model.loss_names:\n",
    "        losses[loss_name] = meters_tst[loss_name].avg\n",
    "    visualizer.print_test_losses('average', losses)\n",
    "\n",
    "    break"
   ]
  },
  {
   "cell_type": "code",
   "execution_count": 2,
   "metadata": {},
   "outputs": [],
   "source": [
    "import torch\n",
    "import torchvision.transforms.functional as TF\n",
    "from data.base_dataset import BaseDataset\n",
    "from PIL import Image\n",
    "\n",
    "mask_path = '/viscam/projects/uorf-extension/datasets/room_diverse_nobg/test/00000_sc0000_az00_mask.png'\n",
    "\n",
    "def _transform_mask(img):\n",
    "    img = TF.resize(img, (128, 128), Image.NEAREST)\n",
    "    img = TF.to_tensor(img)\n",
    "    img = TF.normalize(img, [0.5] * img.shape[0], [0.5] * img.shape[0])  # [0,1] -> [-1,1]\n",
    "    return img\n",
    "\n",
    "mask = Image.open(mask_path).convert('RGB')\n",
    "mask_l = mask.convert('L')\n",
    "mask = _transform_mask(mask)\n",
    "mask_l = _transform_mask(mask_l)\n",
    "mask_flat = mask_l.flatten(start_dim=0)  # HW,\n",
    "greyscale_dict = mask_flat.unique(sorted=True)  # 8,\n",
    "onehot_labels = mask_flat[:, None] == greyscale_dict  # HWx8, one-hot\n",
    "onehot_labels = onehot_labels.type(torch.uint8)\n",
    "mask_idx = onehot_labels.argmax(dim=1)  # HW\n",
    "bg_color = greyscale_dict[1]\n",
    "fg_idx = mask_flat != bg_color  # HW\n",
    "\n",
    "obj_idxs = []\n",
    "for i in range(len(greyscale_dict)):\n",
    "    obj_idx = mask_l == greyscale_dict[i]  # 1xHxW\n",
    "    obj_idxs.append(obj_idx)\n",
    "obj_idxs = torch.stack(obj_idxs)  # Kx1xHxW\n"
   ]
  },
  {
   "cell_type": "code",
   "execution_count": 3,
   "metadata": {},
   "outputs": [],
   "source": [
    "from segment_anything import SamAutomaticMaskGenerator, sam_model_registry\n",
    "sam = sam_model_registry[\"vit_l\"](checkpoint=\"/viscam/u/redfairy/pretrained_weights/SAM/sam_vit_l_0b3195.pth\")\n",
    "mask_generator = SamAutomaticMaskGenerator(sam)"
   ]
  },
  {
   "cell_type": "code",
   "execution_count": 4,
   "metadata": {},
   "outputs": [
    {
     "ename": "AttributeError",
     "evalue": "'str' object has no attribute 'shape'",
     "output_type": "error",
     "traceback": [
      "\u001b[0;31m---------------------------------------------------------------------------\u001b[0m",
      "\u001b[0;31mAttributeError\u001b[0m                            Traceback (most recent call last)",
      "Cell \u001b[0;32mIn[4], line 1\u001b[0m\n\u001b[0;32m----> 1\u001b[0m masks \u001b[39m=\u001b[39m mask_generator\u001b[39m.\u001b[39;49mgenerate(\u001b[39m'\u001b[39;49m\u001b[39m/viscam/projects/uorf-extension/datasets/room_multiple_bg/train-new/00000_sc0000_az00.png\u001b[39;49m\u001b[39m'\u001b[39;49m)\n",
      "File \u001b[0;32m~/.local/lib/python3.8/site-packages/torch/utils/_contextlib.py:115\u001b[0m, in \u001b[0;36mcontext_decorator.<locals>.decorate_context\u001b[0;34m(*args, **kwargs)\u001b[0m\n\u001b[1;32m    112\u001b[0m \u001b[39m@functools\u001b[39m\u001b[39m.\u001b[39mwraps(func)\n\u001b[1;32m    113\u001b[0m \u001b[39mdef\u001b[39;00m \u001b[39mdecorate_context\u001b[39m(\u001b[39m*\u001b[39margs, \u001b[39m*\u001b[39m\u001b[39m*\u001b[39mkwargs):\n\u001b[1;32m    114\u001b[0m     \u001b[39mwith\u001b[39;00m ctx_factory():\n\u001b[0;32m--> 115\u001b[0m         \u001b[39mreturn\u001b[39;00m func(\u001b[39m*\u001b[39;49margs, \u001b[39m*\u001b[39;49m\u001b[39m*\u001b[39;49mkwargs)\n",
      "File \u001b[0;32m/viscam/u/redfairy/anaconda3/envs/nerfstudio/lib/python3.8/site-packages/segment_anything/automatic_mask_generator.py:163\u001b[0m, in \u001b[0;36mSamAutomaticMaskGenerator.generate\u001b[0;34m(self, image)\u001b[0m\n\u001b[1;32m    138\u001b[0m \u001b[39m\u001b[39m\u001b[39m\"\"\"\u001b[39;00m\n\u001b[1;32m    139\u001b[0m \u001b[39mGenerates masks for the given image.\u001b[39;00m\n\u001b[1;32m    140\u001b[0m \n\u001b[0;32m   (...)\u001b[0m\n\u001b[1;32m    159\u001b[0m \u001b[39m         the mask, given in XYWH format.\u001b[39;00m\n\u001b[1;32m    160\u001b[0m \u001b[39m\"\"\"\u001b[39;00m\n\u001b[1;32m    162\u001b[0m \u001b[39m# Generate masks\u001b[39;00m\n\u001b[0;32m--> 163\u001b[0m mask_data \u001b[39m=\u001b[39m \u001b[39mself\u001b[39;49m\u001b[39m.\u001b[39;49m_generate_masks(image)\n\u001b[1;32m    165\u001b[0m \u001b[39m# Filter small disconnected regions and holes in masks\u001b[39;00m\n\u001b[1;32m    166\u001b[0m \u001b[39mif\u001b[39;00m \u001b[39mself\u001b[39m\u001b[39m.\u001b[39mmin_mask_region_area \u001b[39m>\u001b[39m \u001b[39m0\u001b[39m:\n",
      "File \u001b[0;32m/viscam/u/redfairy/anaconda3/envs/nerfstudio/lib/python3.8/site-packages/segment_anything/automatic_mask_generator.py:198\u001b[0m, in \u001b[0;36mSamAutomaticMaskGenerator._generate_masks\u001b[0;34m(self, image)\u001b[0m\n\u001b[1;32m    197\u001b[0m \u001b[39mdef\u001b[39;00m \u001b[39m_generate_masks\u001b[39m(\u001b[39mself\u001b[39m, image: np\u001b[39m.\u001b[39mndarray) \u001b[39m-\u001b[39m\u001b[39m>\u001b[39m MaskData:\n\u001b[0;32m--> 198\u001b[0m     orig_size \u001b[39m=\u001b[39m image\u001b[39m.\u001b[39;49mshape[:\u001b[39m2\u001b[39m]\n\u001b[1;32m    199\u001b[0m     crop_boxes, layer_idxs \u001b[39m=\u001b[39m generate_crop_boxes(\n\u001b[1;32m    200\u001b[0m         orig_size, \u001b[39mself\u001b[39m\u001b[39m.\u001b[39mcrop_n_layers, \u001b[39mself\u001b[39m\u001b[39m.\u001b[39mcrop_overlap_ratio\n\u001b[1;32m    201\u001b[0m     )\n\u001b[1;32m    203\u001b[0m     \u001b[39m# Iterate over image crops\u001b[39;00m\n",
      "\u001b[0;31mAttributeError\u001b[0m: 'str' object has no attribute 'shape'"
     ]
    }
   ],
   "source": [
    "\n",
    "masks = mask_generator.generate('/viscam/projects/uorf-extension/datasets/room_multiple_bg/train-new/00000_sc0000_az00.png')"
   ]
  }
 ],
 "metadata": {
  "kernelspec": {
   "display_name": "nerfstudio",
   "language": "python",
   "name": "python3"
  },
  "language_info": {
   "codemirror_mode": {
    "name": "ipython",
    "version": 3
   },
   "file_extension": ".py",
   "mimetype": "text/x-python",
   "name": "python",
   "nbconvert_exporter": "python",
   "pygments_lexer": "ipython3",
   "version": "3.8.16"
  },
  "orig_nbformat": 4
 },
 "nbformat": 4,
 "nbformat_minor": 2
}
